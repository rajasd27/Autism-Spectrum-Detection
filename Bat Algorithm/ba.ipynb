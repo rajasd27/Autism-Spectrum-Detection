{
 "cells": [
  {
   "cell_type": "code",
   "execution_count": 4,
   "metadata": {},
   "outputs": [],
   "source": [
    "import numpy as np\n",
    "import pandas as pd\n",
    "from keras.models import Sequential\n",
    "from keras.layers import Dense, Activation\n",
    "from keras import models\n",
    "from keras import layers\n",
    "from sklearn.utils import shuffle\n",
    "from sklearn import preprocessing\n",
    "from sklearn.model_selection import train_test_split\n",
    "from sklearn.metrics import mean_squared_error, confusion_matrix, accuracy_score, classification_report\n",
    "import matplotlib.pyplot as plt\n",
    "import scikitplot as skplot\n",
    "from SwarmPackagePy import ba"
   ]
  },
  {
   "cell_type": "code",
   "execution_count": 5,
   "metadata": {},
   "outputs": [],
   "source": [
    "df = pd.read_csv('../Datasets/Final_Dataset.csv', index_col=[0])"
   ]
  },
  {
   "cell_type": "code",
   "execution_count": 6,
   "metadata": {},
   "outputs": [
    {
     "data": {
      "text/html": [
       "<div>\n",
       "<style scoped>\n",
       "    .dataframe tbody tr th:only-of-type {\n",
       "        vertical-align: middle;\n",
       "    }\n",
       "\n",
       "    .dataframe tbody tr th {\n",
       "        vertical-align: top;\n",
       "    }\n",
       "\n",
       "    .dataframe thead th {\n",
       "        text-align: right;\n",
       "    }\n",
       "</style>\n",
       "<table border=\"1\" class=\"dataframe\">\n",
       "  <thead>\n",
       "    <tr style=\"text-align: right;\">\n",
       "      <th></th>\n",
       "      <th>A1_Score</th>\n",
       "      <th>A2_Score</th>\n",
       "      <th>A3_Score</th>\n",
       "      <th>A4_Score</th>\n",
       "      <th>A5_Score</th>\n",
       "      <th>A6_Score</th>\n",
       "      <th>A7_Score</th>\n",
       "      <th>A8_Score</th>\n",
       "      <th>A9_Score</th>\n",
       "      <th>A10_Score</th>\n",
       "      <th>gender</th>\n",
       "      <th>jaundice</th>\n",
       "      <th>PDD</th>\n",
       "      <th>Class/ASD</th>\n",
       "      <th>age_range_'12-16 years'</th>\n",
       "      <th>age_range_'18 and more'</th>\n",
       "      <th>age_range_'4-11 years'</th>\n",
       "    </tr>\n",
       "  </thead>\n",
       "  <tbody>\n",
       "    <tr>\n",
       "      <th>0</th>\n",
       "      <td>1</td>\n",
       "      <td>1</td>\n",
       "      <td>1</td>\n",
       "      <td>1</td>\n",
       "      <td>0</td>\n",
       "      <td>0</td>\n",
       "      <td>1</td>\n",
       "      <td>1</td>\n",
       "      <td>0</td>\n",
       "      <td>0</td>\n",
       "      <td>0</td>\n",
       "      <td>0</td>\n",
       "      <td>0</td>\n",
       "      <td>0</td>\n",
       "      <td>0</td>\n",
       "      <td>1</td>\n",
       "      <td>0</td>\n",
       "    </tr>\n",
       "    <tr>\n",
       "      <th>1</th>\n",
       "      <td>1</td>\n",
       "      <td>1</td>\n",
       "      <td>0</td>\n",
       "      <td>1</td>\n",
       "      <td>0</td>\n",
       "      <td>0</td>\n",
       "      <td>0</td>\n",
       "      <td>1</td>\n",
       "      <td>0</td>\n",
       "      <td>1</td>\n",
       "      <td>1</td>\n",
       "      <td>0</td>\n",
       "      <td>1</td>\n",
       "      <td>0</td>\n",
       "      <td>0</td>\n",
       "      <td>1</td>\n",
       "      <td>0</td>\n",
       "    </tr>\n",
       "    <tr>\n",
       "      <th>2</th>\n",
       "      <td>1</td>\n",
       "      <td>1</td>\n",
       "      <td>0</td>\n",
       "      <td>1</td>\n",
       "      <td>1</td>\n",
       "      <td>0</td>\n",
       "      <td>1</td>\n",
       "      <td>1</td>\n",
       "      <td>1</td>\n",
       "      <td>1</td>\n",
       "      <td>1</td>\n",
       "      <td>1</td>\n",
       "      <td>1</td>\n",
       "      <td>1</td>\n",
       "      <td>0</td>\n",
       "      <td>1</td>\n",
       "      <td>0</td>\n",
       "    </tr>\n",
       "    <tr>\n",
       "      <th>3</th>\n",
       "      <td>1</td>\n",
       "      <td>1</td>\n",
       "      <td>0</td>\n",
       "      <td>1</td>\n",
       "      <td>0</td>\n",
       "      <td>0</td>\n",
       "      <td>1</td>\n",
       "      <td>1</td>\n",
       "      <td>0</td>\n",
       "      <td>1</td>\n",
       "      <td>0</td>\n",
       "      <td>0</td>\n",
       "      <td>1</td>\n",
       "      <td>0</td>\n",
       "      <td>0</td>\n",
       "      <td>1</td>\n",
       "      <td>0</td>\n",
       "    </tr>\n",
       "    <tr>\n",
       "      <th>4</th>\n",
       "      <td>1</td>\n",
       "      <td>0</td>\n",
       "      <td>0</td>\n",
       "      <td>0</td>\n",
       "      <td>0</td>\n",
       "      <td>0</td>\n",
       "      <td>0</td>\n",
       "      <td>1</td>\n",
       "      <td>0</td>\n",
       "      <td>0</td>\n",
       "      <td>0</td>\n",
       "      <td>0</td>\n",
       "      <td>0</td>\n",
       "      <td>0</td>\n",
       "      <td>0</td>\n",
       "      <td>1</td>\n",
       "      <td>0</td>\n",
       "    </tr>\n",
       "  </tbody>\n",
       "</table>\n",
       "</div>"
      ],
      "text/plain": [
       "   A1_Score  A2_Score  A3_Score  A4_Score  A5_Score  A6_Score  A7_Score  \\\n",
       "0         1         1         1         1         0         0         1   \n",
       "1         1         1         0         1         0         0         0   \n",
       "2         1         1         0         1         1         0         1   \n",
       "3         1         1         0         1         0         0         1   \n",
       "4         1         0         0         0         0         0         0   \n",
       "\n",
       "   A8_Score  A9_Score  A10_Score  gender  jaundice  PDD  Class/ASD  \\\n",
       "0         1         0          0       0         0    0          0   \n",
       "1         1         0          1       1         0    1          0   \n",
       "2         1         1          1       1         1    1          1   \n",
       "3         1         0          1       0         0    1          0   \n",
       "4         1         0          0       0         0    0          0   \n",
       "\n",
       "   age_range_'12-16 years'  age_range_'18 and more'  age_range_'4-11 years'  \n",
       "0                        0                        1                       0  \n",
       "1                        0                        1                       0  \n",
       "2                        0                        1                       0  \n",
       "3                        0                        1                       0  \n",
       "4                        0                        1                       0  "
      ]
     },
     "execution_count": 6,
     "metadata": {},
     "output_type": "execute_result"
    }
   ],
   "source": [
    "df.head()"
   ]
  },
  {
   "cell_type": "code",
   "execution_count": 7,
   "metadata": {},
   "outputs": [
    {
     "data": {
      "text/plain": [
       "(1100, 17)"
      ]
     },
     "execution_count": 7,
     "metadata": {},
     "output_type": "execute_result"
    }
   ],
   "source": [
    "df.shape"
   ]
  },
  {
   "cell_type": "code",
   "execution_count": 8,
   "metadata": {},
   "outputs": [],
   "source": [
    "labels = df.pop('Class/ASD')\n",
    "y = np.array(labels)"
   ]
  },
  {
   "cell_type": "code",
   "execution_count": 9,
   "metadata": {},
   "outputs": [],
   "source": [
    "X = df.to_numpy()"
   ]
  },
  {
   "cell_type": "code",
   "execution_count": 10,
   "metadata": {},
   "outputs": [],
   "source": [
    "X_train, X_test, y_train, y_test = train_test_split(X, y, test_size=0.20, random_state=42, shuffle=True)"
   ]
  },
  {
   "cell_type": "code",
   "execution_count": 11,
   "metadata": {},
   "outputs": [
    {
     "name": "stdout",
     "output_type": "stream",
     "text": [
      "We have 880 train samples\n",
      "We have 220 test samples\n"
     ]
    }
   ],
   "source": [
    "print(f'We have {X_train.shape[0]} train samples')\n",
    "print(f'We have {X_test.shape[0]} test samples')"
   ]
  },
  {
   "cell_type": "code",
   "execution_count": 12,
   "metadata": {},
   "outputs": [
    {
     "name": "stdout",
     "output_type": "stream",
     "text": [
      "WARNING:tensorflow:From /Users/rajas/opt/anaconda3/lib/python3.7/site-packages/keras/backend/tensorflow_backend.py:74: The name tf.get_default_graph is deprecated. Please use tf.compat.v1.get_default_graph instead.\n",
      "\n",
      "WARNING:tensorflow:From /Users/rajas/opt/anaconda3/lib/python3.7/site-packages/keras/backend/tensorflow_backend.py:517: The name tf.placeholder is deprecated. Please use tf.compat.v1.placeholder instead.\n",
      "\n",
      "WARNING:tensorflow:From /Users/rajas/opt/anaconda3/lib/python3.7/site-packages/keras/backend/tensorflow_backend.py:4138: The name tf.random_uniform is deprecated. Please use tf.random.uniform instead.\n",
      "\n"
     ]
    }
   ],
   "source": [
    "network = models.Sequential()\n",
    "network.add(layers.Dense(units=32, activation='sigmoid', input_shape=(X_train.shape[1],)))\n",
    "network.add(layers.Dense(units=32, activation='sigmoid'))\n",
    "network.add(layers.Dense(units=1, activation='sigmoid'))"
   ]
  },
  {
   "cell_type": "code",
   "execution_count": 13,
   "metadata": {},
   "outputs": [
    {
     "name": "stdout",
     "output_type": "stream",
     "text": [
      "_________________________________________________________________\n",
      "Layer (type)                 Output Shape              Param #   \n",
      "=================================================================\n",
      "dense_1 (Dense)              (None, 32)                544       \n",
      "_________________________________________________________________\n",
      "dense_2 (Dense)              (None, 32)                1056      \n",
      "_________________________________________________________________\n",
      "dense_3 (Dense)              (None, 1)                 33        \n",
      "=================================================================\n",
      "Total params: 1,633\n",
      "Trainable params: 1,633\n",
      "Non-trainable params: 0\n",
      "_________________________________________________________________\n"
     ]
    }
   ],
   "source": [
    "network.summary()"
   ]
  },
  {
   "cell_type": "code",
   "execution_count": 14,
   "metadata": {},
   "outputs": [],
   "source": [
    "def minimization_function(x):\n",
    "#     print(len(x))\n",
    "    layer1_weights = np.array(x[0:512]).reshape(16,32)\n",
    "    layer1_biases = np.array(x[512:544])\n",
    "    \n",
    "    layer2_weights = np.array(x[544:1568]).reshape(32,32)\n",
    "    layer2_biases = np.array(x[1568:1600])\n",
    "    \n",
    "    layer3_weights = np.array(x[1600:1632]).reshape(32,1)\n",
    "    layer3_biases = np.array(x[1632:1633])\n",
    "    \n",
    "    network.layers[0].set_weights([layer1_weights, layer1_biases])\n",
    "    network.layers[1].set_weights([layer2_weights, layer2_biases])\n",
    "    network.layers[2].set_weights([layer3_weights, layer3_biases])\n",
    "    \n",
    "    cso_predict = network.predict(X_train)    \n",
    "    return mean_squared_error(y_train, cso_predict)"
   ]
  },
  {
   "cell_type": "code",
   "execution_count": 25,
   "metadata": {},
   "outputs": [
    {
     "name": "stdout",
     "output_type": "stream",
     "text": [
      "CPU times: user 15min 5s, sys: 1min 8s, total: 16min 14s\n",
      "Wall time: 12min 34s\n"
     ]
    }
   ],
   "source": [
    "%%time \n",
    "swarm = ba(100, minimization_function, lb=-1, ub=1, dimension=1633, iteration=100, r0=0.9,\n",
    "                 V0=0.5, fmin=0, fmax=0.02, alpha=0.9, csi=0.9)"
   ]
  },
  {
   "cell_type": "code",
   "execution_count": 26,
   "metadata": {},
   "outputs": [],
   "source": [
    "best_solution = swarm.get_Gbest()"
   ]
  },
  {
   "cell_type": "code",
   "execution_count": 27,
   "metadata": {},
   "outputs": [],
   "source": [
    "layer1_weights = np.array(best_solution[0:512]).reshape(16,32)\n",
    "layer1_biases = np.array(best_solution[512:544])\n",
    "\n",
    "layer2_weights = np.array(best_solution[544:1568]).reshape(32,32)\n",
    "layer2_biases = np.array(best_solution[1568:1600])\n",
    "\n",
    "layer3_weights = np.array(best_solution[1600:1632]).reshape(32,1)\n",
    "layer3_biases = np.array(best_solution[1632:1633])\n",
    "\n",
    "network.layers[0].set_weights([layer1_weights, layer1_biases])\n",
    "network.layers[1].set_weights([layer2_weights, layer2_biases])\n",
    "network.layers[2].set_weights([layer3_weights, layer3_biases])"
   ]
  },
  {
   "cell_type": "code",
   "execution_count": 28,
   "metadata": {},
   "outputs": [],
   "source": [
    "predictions = network.predict(X_test)"
   ]
  },
  {
   "cell_type": "code",
   "execution_count": 29,
   "metadata": {},
   "outputs": [],
   "source": [
    "predictions[predictions > 0.5] = 1\n",
    "predictions[predictions < 0.5] = 0"
   ]
  },
  {
   "cell_type": "code",
   "execution_count": 30,
   "metadata": {},
   "outputs": [
    {
     "name": "stdout",
     "output_type": "stream",
     "text": [
      "--------------------- RESULTS OF BAT ALGORITHM -----------------------\n",
      "------------------------------------------------------------------------\n",
      "Accuracy Score:  0.9272727272727272\n",
      "------------------------------------------------------------------------\n",
      "Mean Squared Error:  0.07272727272727272\n",
      "------------------------------------------------------------------------\n",
      "Confusion Matrix: \n",
      "\n",
      " [[137   6]\n",
      " [ 10  67]]\n",
      "------------------------------------------------------------------------\n",
      "Classification Report: \n",
      "\n",
      "               precision    recall  f1-score   support\n",
      "\n",
      "           0       0.93      0.96      0.94       143\n",
      "           1       0.92      0.87      0.89        77\n",
      "\n",
      "    accuracy                           0.93       220\n",
      "   macro avg       0.92      0.91      0.92       220\n",
      "weighted avg       0.93      0.93      0.93       220\n",
      "\n",
      "------------------------------------------------------------------------\n"
     ]
    }
   ],
   "source": [
    "print(\"--------------------- RESULTS OF BAT ALGORITHM -----------------------\")\n",
    "print(\"------------------------------------------------------------------------\")\n",
    "print(\"Accuracy Score: \", accuracy_score(y_test, predictions))\n",
    "print(\"------------------------------------------------------------------------\")\n",
    "print(\"Mean Squared Error: \", mean_squared_error(y_test, predictions))\n",
    "print(\"------------------------------------------------------------------------\")\n",
    "print(\"Confusion Matrix: \\n\\n\",confusion_matrix(y_test, predictions))\n",
    "print(\"------------------------------------------------------------------------\")\n",
    "print(\"Classification Report: \\n\\n\",classification_report(y_test, predictions))\n",
    "print(\"------------------------------------------------------------------------\")"
   ]
  },
  {
   "cell_type": "code",
   "execution_count": 31,
   "metadata": {
    "scrolled": true
   },
   "outputs": [],
   "source": [
    "iteration_mean = []\n",
    "for i in range(len(swarm.get_agents())):\n",
    "    agents_mean = []\n",
    "    for j in range(len(swarm.get_agents()[i])):\n",
    "        a_mse = minimization_function(swarm.get_agents()[i][j])\n",
    "        agents_mean.append(a_mse)\n",
    "    iteration_mean.append(np.mean(a_mse))"
   ]
  },
  {
   "cell_type": "code",
   "execution_count": 32,
   "metadata": {},
   "outputs": [
    {
     "data": {
      "image/png": "[encoded data removed]",
      "text/plain": [
       "<Figure size 432x288 with 1 Axes>"
      ]
     },
     "metadata": {
      "needs_background": "light"
     },
     "output_type": "display_data"
    }
   ],
   "source": [
    "x1 = list(range(len(iteration_mean)))\n",
    "plt.title('Behavior of the Function to be Minimized')\n",
    "plt.xlabel('Number of Generations')\n",
    "plt.ylabel('Minimizing Function')\n",
    "plt.plot(x1, iteration_mean)\n",
    "plt.show()"
   ]
  },
  {
   "cell_type": "code",
   "execution_count": 33,
   "metadata": {},
   "outputs": [],
   "source": [
    "import json\n",
    "data = {'ba': {'range': x1, 'mean':iteration_mean}}\n",
    "with open(\"../graph_data.json\", \"a\") as write_file:\n",
    "    json.dump(data, write_file)"
   ]
  },
  {
   "cell_type": "code",
   "execution_count": null,
   "metadata": {},
   "outputs": [],
   "source": []
  }
 ],
 "metadata": {
  "kernelspec": {
   "display_name": "Python 3",
   "language": "python",
   "name": "python3"
  },
  "language_info": {
   "codemirror_mode": {
    "name": "ipython",
    "version": 3
   },
   "file_extension": ".py",
   "mimetype": "text/x-python",
   "name": "python",
   "nbconvert_exporter": "python",
   "pygments_lexer": "ipython3",
   "version": "3.7.4"
  }
 },
 "nbformat": 4,
 "nbformat_minor": 2
}
